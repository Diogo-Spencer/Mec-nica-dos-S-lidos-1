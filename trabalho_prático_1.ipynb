{
  "nbformat": 4,
  "nbformat_minor": 0,
  "metadata": {
    "colab": {
      "name": "trabalho prático 1.ipynb",
      "provenance": [],
      "collapsed_sections": [],
      "authorship_tag": "ABX9TyM9omQaFh76LfQxlWrfDJc2",
      "include_colab_link": true
    },
    "kernelspec": {
      "name": "python3",
      "display_name": "Python 3"
    },
    "language_info": {
      "name": "python"
    }
  },
  "cells": [
    {
      "cell_type": "markdown",
      "metadata": {
        "id": "view-in-github",
        "colab_type": "text"
      },
      "source": [
        "<a href=\"https://colab.research.google.com/github/Diogo-Spencer/Mec-nica-dos-S-lidos-1/blob/main/trabalho_pr%C3%A1tico_1.ipynb\" target=\"_parent\"><img src=\"https://colab.research.google.com/assets/colab-badge.svg\" alt=\"Open In Colab\"/></a>"
      ]
    },
    {
      "cell_type": "markdown",
      "source": [
        "a)"
      ],
      "metadata": {
        "id": "zT1M4QBY5jRV"
      }
    },
    {
      "cell_type": "code",
      "execution_count": 3,
      "metadata": {
        "colab": {
          "base_uri": "https://localhost:8080/"
        },
        "id": "Csp0v0Gz0v3_",
        "outputId": "3e1b6ad3-071d-48a5-e068-70ad7e916922"
      },
      "outputs": [
        {
          "output_type": "stream",
          "name": "stdout",
          "text": [
            "n1 =  [ 0.373239  0.653484  0.658522]\n",
            "n2 =  [-0.653484 -0.318654  0.686599]\n",
            "n3 =  [ 0.658522 -0.686599  0.308108]\n"
          ]
        }
      ],
      "source": [
        "import numpy as np\n",
        "np.set_printoptions(formatter={'float': '{: 0.6f}'.format})\n",
        "\n",
        "def versor(v1,v2,v3): return np.array([v1,v2,v3])\n",
        "\n",
        "n1 = versor(0.373239,0.653484,0.658522)\n",
        "n2 = versor(-0.653484,-0.318654,0.686599)\n",
        "n3 = versor(0.658522,-0.686599,0.308108)\n",
        "\n",
        "print('n1 = ',n1)\n",
        "print('n2 = ',n2)\n",
        "print('n3 = ',n3)"
      ]
    },
    {
      "cell_type": "markdown",
      "source": [
        "Ortonormalidade"
      ],
      "metadata": {
        "id": "ua9W6be91k-U"
      }
    },
    {
      "cell_type": "code",
      "source": [
        "print('i = j: ')\n",
        "print(f'np.dot(n1,n1) = {np.dot(n1,n1):.1f}')\n",
        "print(f'np.dot(n2,n2) = {np.dot(n2,n2):.1f}')\n",
        "print(f'np.dot(n3,n3) = {np.dot(n3,n3):.1f}')"
      ],
      "metadata": {
        "colab": {
          "base_uri": "https://localhost:8080/"
        },
        "id": "WZ0X7aEY1s2_",
        "outputId": "92b611d5-6ba7-4078-f5c9-e7ea514c8ab8"
      },
      "execution_count": 4,
      "outputs": [
        {
          "output_type": "stream",
          "name": "stdout",
          "text": [
            "i = j: \n",
            "np.dot(n1,n1) = 1.0\n",
            "np.dot(n2,n2) = 1.0\n",
            "np.dot(n3,n3) = 1.0\n"
          ]
        }
      ]
    },
    {
      "cell_type": "markdown",
      "source": [
        "Ortogonalidade"
      ],
      "metadata": {
        "id": "00CRnYqF1zId"
      }
    },
    {
      "cell_type": "code",
      "source": [
        "print('i ne j: ')\n",
        "print(f'np.dot(n2,n3) = {np.dot(n2,n3):.1f}')\n",
        "print(f'np.dot(n1,n3) = {np.dot(n1,n3):.1f}')\n",
        "print(f'np.dot(n1,n2) = {np.dot(n1,n2):.1f}')"
      ],
      "metadata": {
        "colab": {
          "base_uri": "https://localhost:8080/"
        },
        "id": "zHfW8W-C11Ys",
        "outputId": "a52427b8-f5fa-435f-b30e-83d5676d5cc0"
      },
      "execution_count": 5,
      "outputs": [
        {
          "output_type": "stream",
          "name": "stdout",
          "text": [
            "i ne j: \n",
            "np.dot(n2,n3) = 0.0\n",
            "np.dot(n1,n3) = 0.0\n",
            "np.dot(n1,n2) = -0.0\n"
          ]
        }
      ]
    },
    {
      "cell_type": "markdown",
      "source": [
        "como os vetores são ortogonais e ortonormados dá certo"
      ],
      "metadata": {
        "id": "IA3h-KlsEgLm"
      }
    },
    {
      "cell_type": "markdown",
      "source": [
        "Aij"
      ],
      "metadata": {
        "id": "eTvQGye_2GVO"
      }
    },
    {
      "cell_type": "code",
      "source": [
        "np.set_printoptions(formatter={'float': '{: 0.6f}'.format})\n",
        "\n",
        "def trans01(i0i1,i0j1,i0k1,j0i1,j0j1,j0k1,k0i1,k0j1,k0k1):\n",
        "    linha0 = [i0i1,j0i1,k0i1]\n",
        "    linha1 = [i0j1,j0j1,k0j1]\n",
        "    linha2 = [i0k1,j0k1,k0k1]\n",
        "    return np.array([linha0,linha1,linha2])\n",
        "\n",
        "Aij = trans01(n1[0],n2[0],n3[0],n1[1],n2[1],n3[1],n1[2],n2[2],n3[2])\n",
        "print(f'\\n Matriz de mudanca de base de S0 para S1: \\n Aij = \\n {Aij}')"
      ],
      "metadata": {
        "colab": {
          "base_uri": "https://localhost:8080/"
        },
        "id": "bt4d5FyV2d2P",
        "outputId": "13382199-58a4-4cf2-b6fd-b2a6fff35c1f"
      },
      "execution_count": 6,
      "outputs": [
        {
          "output_type": "stream",
          "name": "stdout",
          "text": [
            "\n",
            " Matriz de mudanca de base de S0 para S1: \n",
            " Aij = \n",
            " [[ 0.373239  0.653484  0.658522]\n",
            " [-0.653484 -0.318654  0.686599]\n",
            " [ 0.658522 -0.686599  0.308108]]\n"
          ]
        }
      ]
    },
    {
      "cell_type": "markdown",
      "source": [
        "verificação do Aij"
      ],
      "metadata": {
        "id": "hU-hErp12lYu"
      }
    },
    {
      "cell_type": "code",
      "source": [
        "print('[Aij^T][Aij] = [I] = \\n',np.dot(np.transpose(Aij),Aij))\n",
        "print('\\n det([Aij]) = ','{: 0.1f}'.format(np.linalg.det(Aij)))"
      ],
      "metadata": {
        "colab": {
          "base_uri": "https://localhost:8080/"
        },
        "id": "4o5XJUkh2p7w",
        "outputId": "def1655a-4dec-4af0-b907-a01a314224e5"
      },
      "execution_count": 7,
      "outputs": [
        {
          "output_type": "stream",
          "name": "stdout",
          "text": [
            "[Aij^T][Aij] = [I] = \n",
            " [[ 1.000000  0.000000  0.000001]\n",
            " [ 0.000000  1.000000 -0.000001]\n",
            " [ 0.000001 -0.000001  1.000000]]\n",
            "\n",
            " det([Aij]) =   1.0\n"
          ]
        }
      ]
    },
    {
      "cell_type": "markdown",
      "source": [
        "sigma'"
      ],
      "metadata": {
        "id": "8ryt1FY72uqp"
      }
    },
    {
      "cell_type": "code",
      "source": [
        "np.set_printoptions(formatter={'float': '{: 0.5f}'.format})\n",
        "\n",
        "S0tn1 = np.array([[16.413],[1.575],[0]])\n",
        "S0tn2 = np.array([[-27.193],[-1.650],[0]])\n",
        "S0tn3 = np.array([[25.518],[0.310],[0]])\n",
        "print('Componentes dos vetores tensao no referencial S0 :')\n",
        "print('t(n1).S0 | t(n2).S0 | t(n3).S0')\n",
        "for i in range(0,3):\n",
        "    print(S0tn1[i],' ',S0tn2[i],' ',S0tn2[i])"
      ],
      "metadata": {
        "colab": {
          "base_uri": "https://localhost:8080/"
        },
        "id": "Ecafzlvu2wVr",
        "outputId": "a7864be2-2ea8-41b9-a24a-a2d06dd7203d"
      },
      "execution_count": 8,
      "outputs": [
        {
          "output_type": "stream",
          "name": "stdout",
          "text": [
            "Componentes dos vetores tensao no referencial S0 :\n",
            "t(n1).S0 | t(n2).S0 | t(n3).S0\n",
            "[ 16.41300]   [-27.19300]   [-27.19300]\n",
            "[ 1.57500]   [-1.65000]   [-1.65000]\n",
            "[ 0.00000]   [ 0.00000]   [ 0.00000]\n"
          ]
        }
      ]
    },
    {
      "cell_type": "code",
      "source": [
        "np.set_printoptions(formatter={'float': '{: 0.5f}'.format})\n",
        "S1tn1 = np.dot(Aij,S0tn1)\n",
        "S1tn2 = np.dot(Aij,S0tn2)\n",
        "S1tn3 = np.dot(Aij,S0tn3)\n",
        "\n",
        "print('Componentes dos vetores tensao no referencial S1 :')\n",
        "print('tn1.S1 | tn2.S1 | tn3.S1')\n",
        "for i in range(0,3):\n",
        "    print(S1tn1[i],' ',S1tn2[i],' ',S1tn2[i])"
      ],
      "metadata": {
        "colab": {
          "base_uri": "https://localhost:8080/"
        },
        "id": "3dgIz_Hb5E5i",
        "outputId": "57a3eaa4-ad7f-4634-be92-b76fc32a4150"
      },
      "execution_count": 9,
      "outputs": [
        {
          "output_type": "stream",
          "name": "stdout",
          "text": [
            "Componentes dos vetores tensao no referencial S1 :\n",
            "tn1.S1 | tn2.S1 | tn3.S1\n",
            "[ 7.15521]   [-11.22774]   [-11.22774]\n",
            "[-11.22751]   [ 18.29597]   [ 18.29597]\n",
            "[ 9.72693]   [-16.77430]   [-16.77430]\n"
          ]
        }
      ]
    },
    {
      "cell_type": "code",
      "source": [
        "sigma1 = np.hstack((S1tn1,S1tn2,S1tn3))\n",
        "print('sigma1 = \\n', sigma1)"
      ],
      "metadata": {
        "colab": {
          "base_uri": "https://localhost:8080/"
        },
        "id": "oWR5FB985Yu9",
        "outputId": "7173f27a-18d9-443e-cc60-1e7a09e7d32f"
      },
      "execution_count": 10,
      "outputs": [
        {
          "output_type": "stream",
          "name": "stdout",
          "text": [
            "sigma1 = \n",
            " [[ 7.15521 -11.22774  9.72689]\n",
            " [-11.22751  18.29597 -16.77439]\n",
            " [ 9.72693 -16.77430  16.59132]]\n"
          ]
        }
      ]
    },
    {
      "cell_type": "markdown",
      "source": [
        "B)"
      ],
      "metadata": {
        "id": "SG3pB8-Q5hHj"
      }
    },
    {
      "cell_type": "code",
      "source": [
        "Aji = np.transpose(Aij)\n",
        "sigma0 = np.dot(Aji, np.dot(sigma1, np.transpose(Aji)))\n",
        "print('\\nsigma0 = \\n', sigma0)\n"
      ],
      "metadata": {
        "colab": {
          "base_uri": "https://localhost:8080/"
        },
        "id": "OgMEwtW25m8a",
        "outputId": "5c193a79-5306-49c1-ca14-685caa678f51"
      },
      "execution_count": 11,
      "outputs": [
        {
          "output_type": "stream",
          "name": "stdout",
          "text": [
            "\n",
            "sigma0 = \n",
            " [[ 40.70032  1.87016 -0.00007]\n",
            " [ 1.87026  1.34217 -0.00020]\n",
            " [ 0.00002  0.00000  0.00000]]\n"
          ]
        }
      ]
    },
    {
      "cell_type": "markdown",
      "source": [
        "c)"
      ],
      "metadata": {
        "id": "8R9Bpwff7XXo"
      }
    },
    {
      "cell_type": "code",
      "source": [
        ""
      ],
      "metadata": {
        "id": "hIM_WfGh7Y5k"
      },
      "execution_count": null,
      "outputs": []
    },
    {
      "cell_type": "markdown",
      "source": [
        "d)Invariantes"
      ],
      "metadata": {
        "id": "-K_W78ls7ZLe"
      }
    },
    {
      "cell_type": "code",
      "source": [
        "I1 = np.trace(sigma0)\n",
        "print('1º Invariante, I1 :', '{:.6f}'.format(I1))\n",
        "\n",
        "I2 = 0.5*(np.trace(sigma0)**2 -np.trace(np.dot(sigma0,sigma0)))\n",
        "print('2º Invariante, I2 :', '{:.6f}'.format(I2))\n",
        "\n",
        "I3 = np.linalg.det(sigma0)\n",
        "print('2º Invariante, I3 :', '{:.6f}'.format(I3))\n"
      ],
      "metadata": {
        "colab": {
          "base_uri": "https://localhost:8080/"
        },
        "id": "OmM-Bovo7nVS",
        "outputId": "ae2b8d5d-457b-4a37-d20e-754c86246fe3"
      },
      "execution_count": 12,
      "outputs": [
        {
          "output_type": "stream",
          "name": "stdout",
          "text": [
            "1º Invariante, I1 : 42.042495\n",
            "2º Invariante, I2 : 51.129129\n",
            "2º Invariante, I3 : -0.000000\n"
          ]
        }
      ]
    },
    {
      "cell_type": "markdown",
      "source": [
        "Como temos a regra de que I1>I2>I3:"
      ],
      "metadata": {
        "id": "vRKyKRyd9rdP"
      }
    },
    {
      "cell_type": "code",
      "source": [
        "sigmaI =np.array([[I2,0,0],[0,I1,0],[0,0,I3]])\n",
        "print('sigmaI = \\n', sigmaI)"
      ],
      "metadata": {
        "colab": {
          "base_uri": "https://localhost:8080/"
        },
        "id": "BCO1GSMu9dPb",
        "outputId": "e2d46b27-9c51-4974-dd5b-dbf28edab033"
      },
      "execution_count": 13,
      "outputs": [
        {
          "output_type": "stream",
          "name": "stdout",
          "text": [
            "sigmaI = \n",
            " [[ 51.12913  0.00000  0.00000]\n",
            " [ 0.00000  42.04250  0.00000]\n",
            " [ 0.00000  0.00000 -0.00000]]\n"
          ]
        }
      ]
    },
    {
      "cell_type": "markdown",
      "source": [
        "e)"
      ],
      "metadata": {
        "id": "vTIWvnN6Mb4i"
      }
    },
    {
      "cell_type": "code",
      "source": [
        "import numpy as np\n",
        "sigma0 = np.dot(Aji, np.dot(sigma1, np.transpose(Aji)))\n",
        "print('\\nsigma0 = \\n', sigma0)\n"
      ],
      "metadata": {
        "colab": {
          "base_uri": "https://localhost:8080/"
        },
        "id": "yHcffBpcMc0l",
        "outputId": "2390cb35-7ee9-4245-ca60-ca74197b8d99"
      },
      "execution_count": 14,
      "outputs": [
        {
          "output_type": "stream",
          "name": "stdout",
          "text": [
            "\n",
            "sigma0 = \n",
            " [[ 40.70032  1.87016 -0.00007]\n",
            " [ 1.87026  1.34217 -0.00020]\n",
            " [ 0.00002  0.00000  0.00000]]\n"
          ]
        }
      ]
    },
    {
      "cell_type": "code",
      "source": [
        "import numpy as np\n",
        "np.set_printoptions(formatter={'float': '{: 0.6f}'.format})\n",
        "\n",
        "def versor(v1,v2,v3): return np.array([v1,v2,v3])\n",
        "\n",
        "v = versor(1/np.sqrt(2),0.653484,1/np.sqrt(2))\n",
        "\n",
        "print('v = ', v)\n"
      ],
      "metadata": {
        "colab": {
          "base_uri": "https://localhost:8080/"
        },
        "id": "Q9XUOmIbNBXl",
        "outputId": "e7eaa060-6044-417a-8179-952bcccd65ac"
      },
      "execution_count": 16,
      "outputs": [
        {
          "output_type": "stream",
          "name": "stdout",
          "text": [
            "v =  [ 0.707107  0.653484  0.707107]\n"
          ]
        }
      ]
    },
    {
      "cell_type": "code",
      "source": [
        "t=np.dot(v,sigma0)\n",
        "\n",
        "print('t=', t)"
      ],
      "metadata": {
        "colab": {
          "base_uri": "https://localhost:8080/"
        },
        "id": "5KkMGtnjNfI3",
        "outputId": "0871d9de-4a24-4779-ce8d-30f29886eb62"
      },
      "execution_count": 20,
      "outputs": [
        {
          "output_type": "stream",
          "name": "stdout",
          "text": [
            "t= [ 30.001675  2.199489 -0.000178]\n"
          ]
        }
      ]
    },
    {
      "cell_type": "code",
      "source": [
        "sigma_nor= np.dot(v,np.transpose(t))\n",
        "\n",
        "print('sigma_nor (MPa) =',sigma_nor)"
      ],
      "metadata": {
        "colab": {
          "base_uri": "https://localhost:8080/"
        },
        "id": "uHkzzK3fOB1v",
        "outputId": "cfb03d0e-f330-4e74-b1dc-de8c73b3f657"
      },
      "execution_count": 30,
      "outputs": [
        {
          "output_type": "stream",
          "name": "stdout",
          "text": [
            "sigma_nor (MPa) = 22.65159244889814\n"
          ]
        }
      ]
    },
    {
      "cell_type": "code",
      "source": [
        "sigma_tan=np.sqrt(np.dot(t,t)+(sigma_nor)**2)\n",
        "\n",
        "print('sigma_tan (Mpa) =', sigma_tan)"
      ],
      "metadata": {
        "colab": {
          "base_uri": "https://localhost:8080/"
        },
        "id": "GmPgdufaOaTm",
        "outputId": "d07fa289-1b61-4e7a-ba2a-a669c35c6d6e"
      },
      "execution_count": 29,
      "outputs": [
        {
          "output_type": "stream",
          "name": "stdout",
          "text": [
            "sigma_tan (Mpa) = 37.65677727760237\n"
          ]
        }
      ]
    }
  ]
}