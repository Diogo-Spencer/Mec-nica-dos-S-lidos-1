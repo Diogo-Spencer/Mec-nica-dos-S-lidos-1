{
  "nbformat": 4,
  "nbformat_minor": 0,
  "metadata": {
    "colab": {
      "name": "Untitled3.ipynb",
      "provenance": [],
      "authorship_tag": "ABX9TyMCVZWMWHhmt3KnvbXjCtr0",
      "include_colab_link": true
    },
    "kernelspec": {
      "name": "python3",
      "display_name": "Python 3"
    },
    "language_info": {
      "name": "python"
    }
  },
  "cells": [
    {
      "cell_type": "markdown",
      "metadata": {
        "id": "view-in-github",
        "colab_type": "text"
      },
      "source": [
        "<a href=\"https://colab.research.google.com/github/Diogo-Spencer/Mec-nica-dos-S-lidos-1/blob/main/Untitled3.ipynb\" target=\"_parent\"><img src=\"https://colab.research.google.com/assets/colab-badge.svg\" alt=\"Open In Colab\"/></a>"
      ]
    },
    {
      "cell_type": "code",
      "source": [
        ""
      ],
      "metadata": {
        "id": "-uyBiGQJ5jly"
      },
      "execution_count": null,
      "outputs": []
    },
    {
      "cell_type": "markdown",
      "source": [
        "a)"
      ],
      "metadata": {
        "id": "zT1M4QBY5jRV"
      }
    },
    {
      "cell_type": "code",
      "execution_count": 9,
      "metadata": {
        "colab": {
          "base_uri": "https://localhost:8080/"
        },
        "id": "Csp0v0Gz0v3_",
        "outputId": "5795f9e2-a8f1-43cd-89b3-1553e3fe81d9"
      },
      "outputs": [
        {
          "output_type": "stream",
          "name": "stdout",
          "text": [
            "n1 =  [ 0.373239  0.653484  0.658522]\n",
            "n2 =  [-0.653484 -0.318654  0.686599]\n",
            "n3 =  [ 0.658522 -0.686599  0.308108]\n"
          ]
        }
      ],
      "source": [
        "import numpy as np\n",
        "np.set_printoptions(formatter={'float': '{: 0.6f}'.format})\n",
        "\n",
        "def versor(v1,v2,v3): return np.array([v1,v2,v3])\n",
        "\n",
        "n1 = versor(0.373239,0.653484,0.658522)\n",
        "n2 = versor(-0.653484,-0.318654,0.686599)\n",
        "n3 = versor(0.658522,-0.686599,0.308108)\n",
        "\n",
        "print('n1 = ',n1)\n",
        "print('n2 = ',n2)\n",
        "print('n3 = ',n3)"
      ]
    },
    {
      "cell_type": "markdown",
      "source": [
        "Ortonormalidade"
      ],
      "metadata": {
        "id": "ua9W6be91k-U"
      }
    },
    {
      "cell_type": "code",
      "source": [
        "print('i = j: ')\n",
        "print(f'np.dot(n1,n1) = {np.dot(n1,n1):.1f}')\n",
        "print(f'np.dot(n2,n2) = {np.dot(n2,n2):.1f}')\n",
        "print(f'np.dot(n3,n3) = {np.dot(n3,n3):.1f}')"
      ],
      "metadata": {
        "colab": {
          "base_uri": "https://localhost:8080/"
        },
        "id": "WZ0X7aEY1s2_",
        "outputId": "b1d1a4c2-6b3b-4092-b013-191308e237b2"
      },
      "execution_count": 10,
      "outputs": [
        {
          "output_type": "stream",
          "name": "stdout",
          "text": [
            "i = j: \n",
            "np.dot(n1,n1) = 1.0\n",
            "np.dot(n2,n2) = 1.0\n",
            "np.dot(n3,n3) = 1.0\n"
          ]
        }
      ]
    },
    {
      "cell_type": "markdown",
      "source": [
        "Ortogonalidade"
      ],
      "metadata": {
        "id": "00CRnYqF1zId"
      }
    },
    {
      "cell_type": "code",
      "source": [
        "print('i ne j: ')\n",
        "print(f'np.dot(n2,n3) = {np.dot(n2,n3):.1f}')\n",
        "print(f'np.dot(n1,n3) = {np.dot(n1,n3):.1f}')\n",
        "print(f'np.dot(n1,n2) = {np.dot(n1,n2):.1f}')"
      ],
      "metadata": {
        "colab": {
          "base_uri": "https://localhost:8080/"
        },
        "id": "zHfW8W-C11Ys",
        "outputId": "ffd4ce53-69b1-4aef-a4d8-a3390e887ef0"
      },
      "execution_count": 11,
      "outputs": [
        {
          "output_type": "stream",
          "name": "stdout",
          "text": [
            "i ne j: \n",
            "np.dot(n2,n3) = 0.0\n",
            "np.dot(n1,n3) = 0.0\n",
            "np.dot(n1,n2) = -0.0\n"
          ]
        }
      ]
    },
    {
      "cell_type": "markdown",
      "source": [
        "Aij"
      ],
      "metadata": {
        "id": "eTvQGye_2GVO"
      }
    },
    {
      "cell_type": "code",
      "source": [
        "np.set_printoptions(formatter={'float': '{: 0.6f}'.format})\n",
        "\n",
        "def trans01(i0i1,i0j1,i0k1,j0i1,j0j1,j0k1,k0i1,k0j1,k0k1):\n",
        "    linha0 = [i0i1,j0i1,k0i1]\n",
        "    linha1 = [i0j1,j0j1,k0j1]\n",
        "    linha2 = [i0k1,j0k1,k0k1]\n",
        "    return np.array([linha0,linha1,linha2])\n",
        "\n",
        "Aij = trans01(n1[0],n2[0],n3[0],n1[1],n2[1],n3[1],n1[2],n2[2],n3[2])\n",
        "print(f'\\n Matriz de mudanca de base de S0 para S1: \\n Aij = \\n {Q01}')"
      ],
      "metadata": {
        "colab": {
          "base_uri": "https://localhost:8080/"
        },
        "id": "bt4d5FyV2d2P",
        "outputId": "f8f7659e-d93d-4a43-fb53-cf3468fadf3b"
      },
      "execution_count": 27,
      "outputs": [
        {
          "output_type": "stream",
          "name": "stdout",
          "text": [
            "\n",
            " Matriz de mudanca de base de S0 para S1: \n",
            " Aij = \n",
            " [[ 0.373239  0.653484  0.658522]\n",
            " [-0.653484 -0.318654  0.686599]\n",
            " [ 0.658522 -0.686599  0.308108]]\n"
          ]
        }
      ]
    },
    {
      "cell_type": "markdown",
      "source": [
        "verificação do Aij"
      ],
      "metadata": {
        "id": "hU-hErp12lYu"
      }
    },
    {
      "cell_type": "code",
      "source": [
        "print('[Aij^T][Aij] = [I] = \\n',np.dot(np.transpose(Q01),Q01))\n",
        "print('\\n det([Aij]) = ','{: 0.1f}'.format(np.linalg.det(Q01)))"
      ],
      "metadata": {
        "colab": {
          "base_uri": "https://localhost:8080/"
        },
        "id": "4o5XJUkh2p7w",
        "outputId": "ad9437cf-25ae-41ce-92ca-4e2869b87aec"
      },
      "execution_count": 28,
      "outputs": [
        {
          "output_type": "stream",
          "name": "stdout",
          "text": [
            "[Aij^T][Aij] = [I] = \n",
            " [[ 1.000000  0.000000  0.000001]\n",
            " [ 0.000000  1.000000 -0.000001]\n",
            " [ 0.000001 -0.000001  1.000000]]\n",
            "\n",
            " det([Aij]) =   1.0\n"
          ]
        }
      ]
    },
    {
      "cell_type": "markdown",
      "source": [
        "delta'"
      ],
      "metadata": {
        "id": "8ryt1FY72uqp"
      }
    },
    {
      "cell_type": "code",
      "source": [
        "np.set_printoptions(formatter={'float': '{: 0.6f}'.format})\n",
        "\n",
        "S0tn1 = np.array([[16.413],[1.575],[0]])\n",
        "S0tn2 = np.array([[-27.193],[-1.650],[0]])\n",
        "S0tn3 = np.array([[25.518],[0.310],[0]])\n",
        "print('Componentes dos vetores tensao no referencial S0 :')\n",
        "print('t(n1).S0 | t(n2).S0 | t(n3).S0')\n",
        "for i in range(0,3):\n",
        "    print(S0tn1[i],' ',S0tn2[i],' ',S0tn2[i])"
      ],
      "metadata": {
        "colab": {
          "base_uri": "https://localhost:8080/"
        },
        "id": "Ecafzlvu2wVr",
        "outputId": "02ac2ff6-54dd-4653-f868-e78924c33002"
      },
      "execution_count": 22,
      "outputs": [
        {
          "output_type": "stream",
          "name": "stdout",
          "text": [
            "Componentes dos vetores tensao no referencial S0 :\n",
            "t(n1).S0 | t(n2).S0 | t(n3).S0\n",
            "[ 16.413000]   [-27.193000]   [-27.193000]\n",
            "[ 1.575000]   [-1.650000]   [-1.650000]\n",
            "[ 0.000000]   [ 0.000000]   [ 0.000000]\n"
          ]
        }
      ]
    },
    {
      "cell_type": "code",
      "source": [
        "np.set_printoptions(formatter={'float': '{: 0.6f}'.format})\n",
        "S1tn1 = np.dot(Aij,S0tn1)\n",
        "S1tn2 = np.dot(Aij,S0tn2)\n",
        "S1tn3 = np.dot(Aij,S0tn3)\n",
        "\n",
        "print('Componentes dos vetores tensao no referencial S1 :')\n",
        "print('tn1.S1 | tn2.S1 | tn3.S1')\n",
        "for i in range(0,3):\n",
        "    print(S1tn1[i],' ',S1tn2[i],' ',S1tn2[i])"
      ],
      "metadata": {
        "colab": {
          "base_uri": "https://localhost:8080/"
        },
        "id": "3dgIz_Hb5E5i",
        "outputId": "4af35d21-751d-4c31-db9e-1812622b3efc"
      },
      "execution_count": 29,
      "outputs": [
        {
          "output_type": "stream",
          "name": "stdout",
          "text": [
            "Componentes dos vetores tensao no referencial S1 :\n",
            "tn1.S1 | tn2.S1 | tn3.S1\n",
            "[ 7.155209]   [-11.227737]   [-11.227737]\n",
            "[-11.227513]   [ 18.295970]   [ 18.295970]\n",
            "[ 9.726928]   [-16.774300]   [-16.774300]\n"
          ]
        }
      ]
    },
    {
      "cell_type": "code",
      "source": [
        "sigma1 = np.hstack((S1tn1,S1tn2,S1tn3))\n",
        "print('sigma1 = \\n', sigma1)"
      ],
      "metadata": {
        "colab": {
          "base_uri": "https://localhost:8080/"
        },
        "id": "oWR5FB985Yu9",
        "outputId": "57509090-0a63-4593-b105-35c56d5f5bad"
      },
      "execution_count": 24,
      "outputs": [
        {
          "output_type": "stream",
          "name": "stdout",
          "text": [
            "sigma1 = \n",
            " [[ 7.155209 -11.227737  9.726893]\n",
            " [-11.227513  18.295970 -16.774387]\n",
            " [ 9.726928 -16.774300  16.591319]]\n"
          ]
        }
      ]
    },
    {
      "cell_type": "markdown",
      "source": [
        "B)"
      ],
      "metadata": {
        "id": "SG3pB8-Q5hHj"
      }
    },
    {
      "cell_type": "code",
      "source": [
        "Aji = np.transpose(Aij)\n",
        "sigma0a = np.dot(Aji, np.dot(sigma1, np.transpose(Aji)))\n",
        "print('\\nsigma0 = \\n', sigma0a)\n"
      ],
      "metadata": {
        "colab": {
          "base_uri": "https://localhost:8080/"
        },
        "id": "OgMEwtW25m8a",
        "outputId": "b60e9c85-4cab-4e77-9a14-e9b1d283ce41"
      },
      "execution_count": 31,
      "outputs": [
        {
          "output_type": "stream",
          "name": "stdout",
          "text": [
            "\n",
            "sigma0 = \n",
            " [[ 40.700324  1.870158 -0.000065]\n",
            " [ 1.870260  1.342171 -0.000203]\n",
            " [ 0.000020  0.000000  0.000000]]\n"
          ]
        }
      ]
    }
  ]
}