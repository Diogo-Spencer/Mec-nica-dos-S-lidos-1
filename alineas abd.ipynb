{
  "nbformat": 4,
  "nbformat_minor": 0,
  "metadata": {
    "colab": {
      "name": "Untitled3.ipynb",
      "provenance": [],
      "collapsed_sections": [],
      "authorship_tag": "ABX9TyNG8wjYS7RSX3VWpnmoQTwv",
      "include_colab_link": true
    },
    "kernelspec": {
      "name": "python3",
      "display_name": "Python 3"
    },
    "language_info": {
      "name": "python"
    }
  },
  "cells": [
    {
      "cell_type": "markdown",
      "metadata": {
        "id": "view-in-github",
        "colab_type": "text"
      },
      "source": [
        "<a href=\"https://colab.research.google.com/github/Diogo-Spencer/Mec-nica-dos-S-lidos-1/blob/main/alineas%20abd.ipynb\" target=\"_parent\"><img src=\"https://colab.research.google.com/assets/colab-badge.svg\" alt=\"Open In Colab\"/></a>"
      ]
    },
    {
      "cell_type": "code",
      "source": [
        ""
      ],
      "metadata": {
        "id": "-uyBiGQJ5jly"
      },
      "execution_count": null,
      "outputs": []
    },
    {
      "cell_type": "markdown",
      "source": [
        "a)"
      ],
      "metadata": {
        "id": "zT1M4QBY5jRV"
      }
    },
    {
      "cell_type": "code",
      "execution_count": 9,
      "metadata": {
        "colab": {
          "base_uri": "https://localhost:8080/"
        },
        "id": "Csp0v0Gz0v3_",
        "outputId": "5795f9e2-a8f1-43cd-89b3-1553e3fe81d9"
      },
      "outputs": [
        {
          "output_type": "stream",
          "name": "stdout",
          "text": [
            "n1 =  [ 0.373239  0.653484  0.658522]\n",
            "n2 =  [-0.653484 -0.318654  0.686599]\n",
            "n3 =  [ 0.658522 -0.686599  0.308108]\n"
          ]
        }
      ],
      "source": [
        "import numpy as np\n",
        "np.set_printoptions(formatter={'float': '{: 0.6f}'.format})\n",
        "\n",
        "def versor(v1,v2,v3): return np.array([v1,v2,v3])\n",
        "\n",
        "n1 = versor(0.373239,0.653484,0.658522)\n",
        "n2 = versor(-0.653484,-0.318654,0.686599)\n",
        "n3 = versor(0.658522,-0.686599,0.308108)\n",
        "\n",
        "print('n1 = ',n1)\n",
        "print('n2 = ',n2)\n",
        "print('n3 = ',n3)"
      ]
    },
    {
      "cell_type": "markdown",
      "source": [
        "Ortonormalidade"
      ],
      "metadata": {
        "id": "ua9W6be91k-U"
      }
    },
    {
      "cell_type": "code",
      "source": [
        "print('i = j: ')\n",
        "print(f'np.dot(n1,n1) = {np.dot(n1,n1):.1f}')\n",
        "print(f'np.dot(n2,n2) = {np.dot(n2,n2):.1f}')\n",
        "print(f'np.dot(n3,n3) = {np.dot(n3,n3):.1f}')"
      ],
      "metadata": {
        "colab": {
          "base_uri": "https://localhost:8080/"
        },
        "id": "WZ0X7aEY1s2_",
        "outputId": "b1d1a4c2-6b3b-4092-b013-191308e237b2"
      },
      "execution_count": 10,
      "outputs": [
        {
          "output_type": "stream",
          "name": "stdout",
          "text": [
            "i = j: \n",
            "np.dot(n1,n1) = 1.0\n",
            "np.dot(n2,n2) = 1.0\n",
            "np.dot(n3,n3) = 1.0\n"
          ]
        }
      ]
    },
    {
      "cell_type": "markdown",
      "source": [
        "Ortogonalidade"
      ],
      "metadata": {
        "id": "00CRnYqF1zId"
      }
    },
    {
      "cell_type": "code",
      "source": [
        "print('i ne j: ')\n",
        "print(f'np.dot(n2,n3) = {np.dot(n2,n3):.1f}')\n",
        "print(f'np.dot(n1,n3) = {np.dot(n1,n3):.1f}')\n",
        "print(f'np.dot(n1,n2) = {np.dot(n1,n2):.1f}')"
      ],
      "metadata": {
        "colab": {
          "base_uri": "https://localhost:8080/"
        },
        "id": "zHfW8W-C11Ys",
        "outputId": "ffd4ce53-69b1-4aef-a4d8-a3390e887ef0"
      },
      "execution_count": 11,
      "outputs": [
        {
          "output_type": "stream",
          "name": "stdout",
          "text": [
            "i ne j: \n",
            "np.dot(n2,n3) = 0.0\n",
            "np.dot(n1,n3) = 0.0\n",
            "np.dot(n1,n2) = -0.0\n"
          ]
        }
      ]
    },
    {
      "cell_type": "markdown",
      "source": [
        "Aij"
      ],
      "metadata": {
        "id": "eTvQGye_2GVO"
      }
    },
    {
      "cell_type": "code",
      "source": [
        "np.set_printoptions(formatter={'float': '{: 0.6f}'.format})\n",
        "\n",
        "def trans01(i0i1,i0j1,i0k1,j0i1,j0j1,j0k1,k0i1,k0j1,k0k1):\n",
        "    linha0 = [i0i1,j0i1,k0i1]\n",
        "    linha1 = [i0j1,j0j1,k0j1]\n",
        "    linha2 = [i0k1,j0k1,k0k1]\n",
        "    return np.array([linha0,linha1,linha2])\n",
        "\n",
        "Aij = trans01(n1[0],n2[0],n3[0],n1[1],n2[1],n3[1],n1[2],n2[2],n3[2])\n",
        "print(f'\\n Matriz de mudanca de base de S0 para S1: \\n Aij = \\n {Q01}')"
      ],
      "metadata": {
        "colab": {
          "base_uri": "https://localhost:8080/"
        },
        "id": "bt4d5FyV2d2P",
        "outputId": "f8f7659e-d93d-4a43-fb53-cf3468fadf3b"
      },
      "execution_count": 27,
      "outputs": [
        {
          "output_type": "stream",
          "name": "stdout",
          "text": [
            "\n",
            " Matriz de mudanca de base de S0 para S1: \n",
            " Aij = \n",
            " [[ 0.373239  0.653484  0.658522]\n",
            " [-0.653484 -0.318654  0.686599]\n",
            " [ 0.658522 -0.686599  0.308108]]\n"
          ]
        }
      ]
    },
    {
      "cell_type": "markdown",
      "source": [
        "verificação do Aij"
      ],
      "metadata": {
        "id": "hU-hErp12lYu"
      }
    },
    {
      "cell_type": "code",
      "source": [
        "print('[Aij^T][Aij] = [I] = \\n',np.dot(np.transpose(Q01),Q01))\n",
        "print('\\n det([Aij]) = ','{: 0.1f}'.format(np.linalg.det(Q01)))"
      ],
      "metadata": {
        "colab": {
          "base_uri": "https://localhost:8080/"
        },
        "id": "4o5XJUkh2p7w",
        "outputId": "ad9437cf-25ae-41ce-92ca-4e2869b87aec"
      },
      "execution_count": 28,
      "outputs": [
        {
          "output_type": "stream",
          "name": "stdout",
          "text": [
            "[Aij^T][Aij] = [I] = \n",
            " [[ 1.000000  0.000000  0.000001]\n",
            " [ 0.000000  1.000000 -0.000001]\n",
            " [ 0.000001 -0.000001  1.000000]]\n",
            "\n",
            " det([Aij]) =   1.0\n"
          ]
        }
      ]
    },
    {
      "cell_type": "markdown",
      "source": [
        "delta'"
      ],
      "metadata": {
        "id": "8ryt1FY72uqp"
      }
    },
    {
      "cell_type": "code",
      "source": [
        "np.set_printoptions(formatter={'float': '{: 0.5f}'.format})\n",
        "\n",
        "S0tn1 = np.array([[16.413],[1.575],[0]])\n",
        "S0tn2 = np.array([[-27.193],[-1.650],[0]])\n",
        "S0tn3 = np.array([[25.518],[0.310],[0]])\n",
        "print('Componentes dos vetores tensao no referencial S0 :')\n",
        "print('t(n1).S0 | t(n2).S0 | t(n3).S0')\n",
        "for i in range(0,3):\n",
        "    print(S0tn1[i],' ',S0tn2[i],' ',S0tn2[i])"
      ],
      "metadata": {
        "colab": {
          "base_uri": "https://localhost:8080/"
        },
        "id": "Ecafzlvu2wVr",
        "outputId": "0acc9edc-2db3-4c66-b550-30a4c56d8a63"
      },
      "execution_count": 38,
      "outputs": [
        {
          "output_type": "stream",
          "name": "stdout",
          "text": [
            "Componentes dos vetores tensao no referencial S0 :\n",
            "t(n1).S0 | t(n2).S0 | t(n3).S0\n",
            "[ 16.41300]   [-27.19300]   [-27.19300]\n",
            "[ 1.57500]   [-1.65000]   [-1.65000]\n",
            "[ 0.00000]   [ 0.00000]   [ 0.00000]\n"
          ]
        }
      ]
    },
    {
      "cell_type": "code",
      "source": [
        "np.set_printoptions(formatter={'float': '{: 0.5f}'.format})\n",
        "S1tn1 = np.dot(Aij,S0tn1)\n",
        "S1tn2 = np.dot(Aij,S0tn2)\n",
        "S1tn3 = np.dot(Aij,S0tn3)\n",
        "\n",
        "print('Componentes dos vetores tensao no referencial S1 :')\n",
        "print('tn1.S1 | tn2.S1 | tn3.S1')\n",
        "for i in range(0,3):\n",
        "    print(S1tn1[i],' ',S1tn2[i],' ',S1tn2[i])"
      ],
      "metadata": {
        "colab": {
          "base_uri": "https://localhost:8080/"
        },
        "id": "3dgIz_Hb5E5i",
        "outputId": "4bf930d7-cdc6-4e9e-bcb2-e51d76ff12f2"
      },
      "execution_count": 39,
      "outputs": [
        {
          "output_type": "stream",
          "name": "stdout",
          "text": [
            "Componentes dos vetores tensao no referencial S1 :\n",
            "tn1.S1 | tn2.S1 | tn3.S1\n",
            "[ 7.15521]   [-11.22774]   [-11.22774]\n",
            "[-11.22751]   [ 18.29597]   [ 18.29597]\n",
            "[ 9.72693]   [-16.77430]   [-16.77430]\n"
          ]
        }
      ]
    },
    {
      "cell_type": "code",
      "source": [
        "sigma1 = np.hstack((S1tn1,S1tn2,S1tn3))\n",
        "print('sigma1 = \\n', sigma1)"
      ],
      "metadata": {
        "colab": {
          "base_uri": "https://localhost:8080/"
        },
        "id": "oWR5FB985Yu9",
        "outputId": "9cb0200e-43fd-4e5f-ac2f-b357b8b9a7c4"
      },
      "execution_count": 40,
      "outputs": [
        {
          "output_type": "stream",
          "name": "stdout",
          "text": [
            "sigma1 = \n",
            " [[ 7.15521 -11.22774  9.72689]\n",
            " [-11.22751  18.29597 -16.77439]\n",
            " [ 9.72693 -16.77430  16.59132]]\n"
          ]
        }
      ]
    },
    {
      "cell_type": "markdown",
      "source": [
        "B)"
      ],
      "metadata": {
        "id": "SG3pB8-Q5hHj"
      }
    },
    {
      "cell_type": "code",
      "source": [
        "Aji = np.transpose(Aij)\n",
        "sigma0 = np.dot(Aji, np.dot(sigma1, np.transpose(Aji)))\n",
        "print('\\nsigma0 = \\n', sigma0a)\n"
      ],
      "metadata": {
        "colab": {
          "base_uri": "https://localhost:8080/"
        },
        "id": "OgMEwtW25m8a",
        "outputId": "896dfb9e-c064-446a-d2a4-22cb80654b55"
      },
      "execution_count": 41,
      "outputs": [
        {
          "output_type": "stream",
          "name": "stdout",
          "text": [
            "\n",
            "sigma0 = \n",
            " [[ 40.70032  1.87016 -0.00007]\n",
            " [ 1.87026  1.34217 -0.00020]\n",
            " [ 0.00002  0.00000  0.00000]]\n"
          ]
        }
      ]
    },
    {
      "cell_type": "markdown",
      "source": [
        "c)"
      ],
      "metadata": {
        "id": "8R9Bpwff7XXo"
      }
    },
    {
      "cell_type": "code",
      "source": [
        ""
      ],
      "metadata": {
        "id": "hIM_WfGh7Y5k"
      },
      "execution_count": null,
      "outputs": []
    },
    {
      "cell_type": "markdown",
      "source": [
        "d)Invariantes"
      ],
      "metadata": {
        "id": "-K_W78ls7ZLe"
      }
    },
    {
      "cell_type": "code",
      "source": [
        "I1 = np.trace(sigma0)\n",
        "print('1º Invariante, I1 :', '{:.6f}'.format(I1))\n",
        "\n",
        "I2 = 0.5*(np.trace(sigma0)**2 -np.trace(np.dot(sigma0,sigma0)))\n",
        "print('2º Invariante, I2 :', '{:.6f}'.format(I2))\n",
        "\n",
        "I3 = np.linalg.det(sigma0)\n",
        "print('2º Invariante, I3 :', '{:.6f}'.format(I3))\n"
      ],
      "metadata": {
        "colab": {
          "base_uri": "https://localhost:8080/"
        },
        "id": "OmM-Bovo7nVS",
        "outputId": "62d6bff8-f593-4c26-aae8-5e1636970433"
      },
      "execution_count": 42,
      "outputs": [
        {
          "output_type": "stream",
          "name": "stdout",
          "text": [
            "1º Invariante, I1 : 42.042495\n",
            "2º Invariante, I2 : 51.129129\n",
            "2º Invariante, I3 : -0.000000\n"
          ]
        }
      ]
    },
    {
      "cell_type": "markdown",
      "source": [
        "Como temos a regra de que I1>I2>I3:"
      ],
      "metadata": {
        "id": "vRKyKRyd9rdP"
      }
    },
    {
      "cell_type": "code",
      "source": [
        "sigmaI =np.array([[I2,0,0],[0,I1,0],[0,0,I3]])\n",
        "print('sigmaI = \\n', sigmaI)"
      ],
      "metadata": {
        "colab": {
          "base_uri": "https://localhost:8080/"
        },
        "id": "BCO1GSMu9dPb",
        "outputId": "c0c5894e-0e6d-4a29-f078-c8fd33a304a4"
      },
      "execution_count": 50,
      "outputs": [
        {
          "output_type": "stream",
          "name": "stdout",
          "text": [
            "sigmaI = \n",
            " [[ 51.12913  0.00000  0.00000]\n",
            " [ 0.00000  42.04250  0.00000]\n",
            " [ 0.00000  0.00000 -0.00000]]\n"
          ]
        }
      ]
    }
  ]
}